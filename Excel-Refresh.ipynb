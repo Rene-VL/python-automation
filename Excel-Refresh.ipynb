{
 "cells": [
  {
   "cell_type": "code",
   "execution_count": null,
   "metadata": {},
   "outputs": [],
   "source": [
    "import win32com.client\n",
    "import shutil\n",
    "import time\n",
    " \n",
    "#Based upon Code Sample from http://nbviewer.ipython.org/github/sanand0/ipython-notebooks/blob/master/Office.ipynb\n",
    "#                   and from http://stackoverflow.com/questions/11832628/python-excel-macro-refresh\n",
    " \n",
    "# Set Pathnames &amp; Filename (Use forward slashes / instead of backslashes \\ in the paths)\n",
    "SourcePathName = 'C:/Users/.../Desktop/...' \n",
    "FileName = 'example.xlsx'\n",
    " \n",
    "# Open Excel\n",
    "Application = win32com.client.Dispatch(\"Excel.Application\")\n",
    " \n",
    "# Show Excel. While this is not required, it can help with debugging\n",
    "Application.Visible = 1\n",
    " \n",
    "# Open Your Workbook\n",
    "Workbook = Application.Workbooks.open(SourcePathName + '/' + FileName)\n",
    " \n",
    "# Refesh All\n",
    "Workbook.RefreshAll()\n",
    "\n",
    "#Sleep some Seconds\n",
    "time.sleep(20)\n",
    " \n",
    "# Saves the Workbook\n",
    "Workbook.Save()\n",
    " \n",
    "# Closes Excel\n",
    "Application.Quit()"
   ]
  }
 ],
 "metadata": {
  "kernelspec": {
   "display_name": "Python 3",
   "language": "python",
   "name": "python3"
  },
  "language_info": {
   "codemirror_mode": {
    "name": "ipython",
    "version": 3
   },
   "file_extension": ".py",
   "mimetype": "text/x-python",
   "name": "python",
   "nbconvert_exporter": "python",
   "pygments_lexer": "ipython3",
   "version": "3.7.6"
  }
 },
 "nbformat": 4,
 "nbformat_minor": 4
}
