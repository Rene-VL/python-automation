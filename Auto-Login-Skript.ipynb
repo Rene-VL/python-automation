{
 "cells": [
  {
   "cell_type": "code",
   "execution_count": null,
   "metadata": {},
   "outputs": [],
   "source": [
    "from bs4 import BeautifulSoup\n",
    "from selenium import webdriver\n",
    "import time\n",
    "\n",
    "\n",
    "def site_login():\n",
    "    driver = webdriver.Chrome(r\"C:\\Users\\your_name\\Downloads\\chromedriver.exe\") #location of your chromedriver\n",
    "    driver.get (\"https://testseite.de/login\") # url you want to open with chromedriver\n",
    "    driver.find_element_by_xpath(\"copy-xpath-here\").send_keys(\"testmail@mail.de\") #gets the login name element and fills it with your user-account e.g. your login-mail\n",
    "    time.sleep(3)\n",
    "    driver.find_element_by_xpath(\"copy-xpath-here\").send_keys(\"password1234\") #gets the password element and fills it with your password.\n",
    "    time.sleep(3)\n",
    "\n",
    "site_login()"
   ]
  }
 ],
 "metadata": {
  "kernelspec": {
   "display_name": "Python 3",
   "language": "python",
   "name": "python3"
  },
  "language_info": {
   "codemirror_mode": {
    "name": "ipython",
    "version": 3
   },
   "file_extension": ".py",
   "mimetype": "text/x-python",
   "name": "python",
   "nbconvert_exporter": "python",
   "pygments_lexer": "ipython3",
   "version": "3.7.6"
  }
 },
 "nbformat": 4,
 "nbformat_minor": 4
}
